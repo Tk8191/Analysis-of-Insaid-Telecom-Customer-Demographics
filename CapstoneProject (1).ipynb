{
 "cells": [
  {
   "cell_type": "markdown",
   "id": "4801f3ef",
   "metadata": {
    "id": "4801f3ef"
   },
   "source": [
    "#### Problem Statement"
   ]
  },
  {
   "cell_type": "markdown",
   "id": "e373fb04",
   "metadata": {
    "id": "e373fb04"
   },
   "source": [
    "InsaidTelecom, one of the leading telecom players, understands that customizing offering\n",
    "is very important for its business to stay competitive.\n",
    "Currently, InsaidTelecom is seeking to leverage behavioral data from more than 60% of the 50 million mobile devices active daily in India to help its clients better understand and interact with their audiences.<br>\n",
    "\n",
    "In this consulting assignment, Insaidians are expected to build a dashboard to understand\n",
    "user's demographic characteristics based on their mobile usage, geolocation, and mobile device properties.\n",
    "Doing so will help millions of developers and brand advertisers around the world pursue\n",
    "data-driven marketing efforts which are relevant to their users and catered to their preferences."
   ]
  },
  {
   "cell_type": "markdown",
   "id": "94cdb720",
   "metadata": {
    "id": "94cdb720"
   },
   "source": [
    "#### Importing Required Libraries"
   ]
  },
  {
   "cell_type": "code",
   "execution_count": null,
   "id": "f9d64c78",
   "metadata": {
    "id": "f9d64c78"
   },
   "outputs": [],
   "source": [
    "import numpy as np\n",
    "import pandas as pd\n",
    "import matplotlib.pyplot as plt\n",
    "import seaborn as sns\n",
    "\n",
    "%matplotlib inline\n",
    "\n",
    "import warnings\n",
    "warnings.filterwarnings('ignore')"
   ]
  },
  {
   "cell_type": "markdown",
   "id": "46cac94c",
   "metadata": {
    "id": "46cac94c"
   },
   "source": [
    "#### Getting Evenets data from csv"
   ]
  },
  {
   "cell_type": "code",
   "execution_count": null,
   "id": "e300cee4",
   "metadata": {
    "id": "e300cee4"
   },
   "outputs": [],
   "source": [
    "df_events_data=pd.read_csv('events_data.csv')"
   ]
  },
  {
   "cell_type": "code",
   "execution_count": null,
   "id": "30017029",
   "metadata": {
    "id": "30017029",
    "outputId": "b7a67b74-4028-421d-f5fd-79f533f04ceb"
   },
   "outputs": [],
   "source": [
    "df_events_data.shape"
   ]
  },
  {
   "cell_type": "code",
   "execution_count": null,
   "id": "560574ba",
   "metadata": {
    "id": "560574ba",
    "outputId": "2cd34743-540b-4577-9f19-80db29e26eb3"
   },
   "outputs": [],
   "source": [
    "df_events_data.isna().sum()"
   ]
  },
  {
   "cell_type": "code",
   "execution_count": null,
   "id": "08ab6e44",
   "metadata": {
    "id": "08ab6e44",
    "outputId": "3fab5e5e-9487-45a2-d813-8d353aa5620b"
   },
   "outputs": [],
   "source": [
    "df_events_data.info()"
   ]
  },
  {
   "cell_type": "markdown",
   "id": "87ba32f3",
   "metadata": {
    "id": "87ba32f3"
   },
   "source": [
    "#### Getting gender_age_train & phone_brand_device_model data from mysql"
   ]
  },
  {
   "cell_type": "code",
   "execution_count": null,
   "id": "1e6041f6",
   "metadata": {
    "colab": {
     "base_uri": "https://localhost:8080/",
     "height": 304
    },
    "executionInfo": {
     "elapsed": 18,
     "status": "error",
     "timestamp": 1646991007852,
     "user": {
      "displayName": "Juzer Rangwala",
      "photoUrl": "https://lh3.googleusercontent.com/a/default-user=s64",
      "userId": "12799729308278006284"
     },
     "user_tz": -330
    },
    "id": "1e6041f6",
    "outputId": "5c7bfa20-e14b-469a-b147-fda73abb6cc3"
   },
   "outputs": [],
   "source": [
    "import mysql.connector"
   ]
  },
  {
   "cell_type": "code",
   "execution_count": null,
   "id": "2cb935c1",
   "metadata": {
    "colab": {
     "base_uri": "https://localhost:8080/",
     "height": 235
    },
    "executionInfo": {
     "elapsed": 485,
     "status": "error",
     "timestamp": 1646975963252,
     "user": {
      "displayName": "Juzer Rangwala",
      "photoUrl": "https://lh3.googleusercontent.com/a/default-user=s64",
      "userId": "12799729308278006284"
     },
     "user_tz": -330
    },
    "id": "2cb935c1",
    "outputId": "ba4b3620-e668-443d-f3c7-74160b995620"
   },
   "outputs": [],
   "source": [
    "dataBase = mysql.connector.connect(\n",
    "  host =\"cpanel.insaid.co\",\n",
    "  user =\"student\",\n",
    "  passwd =\"student\",\n",
    "  database = \"Capstone1\"\n",
    ")"
   ]
  },
  {
   "cell_type": "code",
   "execution_count": null,
   "id": "8d07b65d",
   "metadata": {
    "id": "8d07b65d"
   },
   "outputs": [],
   "source": [
    "# preparing a cursor object\n",
    "cursorObject = dataBase.cursor()\n",
    "genderagequery='SELECT * FROM gender_age_train'\n",
    "cursorObject.execute(genderagequery)   \n",
    "gender_age_train = cursorObject.fetchall()"
   ]
  },
  {
   "cell_type": "code",
   "execution_count": null,
   "id": "7fe450e5",
   "metadata": {
    "colab": {
     "background_save": true
    },
    "id": "7fe450e5"
   },
   "outputs": [],
   "source": [
    "df_gender_age_train=pd.DataFrame(gender_age_train)"
   ]
  },
  {
   "cell_type": "code",
   "execution_count": null,
   "id": "a830540b",
   "metadata": {
    "colab": {
     "background_save": true
    },
    "id": "a830540b",
    "outputId": "e8081fbe-b6a1-45cf-88d1-6efe68aef9e8"
   },
   "outputs": [],
   "source": [
    "df_gender_age_train.shape"
   ]
  },
  {
   "cell_type": "code",
   "execution_count": null,
   "id": "9fb6181c",
   "metadata": {
    "colab": {
     "background_save": true
    },
    "id": "9fb6181c"
   },
   "outputs": [],
   "source": [
    "phonebrandquery='SELECT * FROM phone_brand_device_model'\n",
    "cursorObject.execute(phonebrandquery)   \n",
    "phone_brand_device_model = cursorObject.fetchall()"
   ]
  },
  {
   "cell_type": "code",
   "execution_count": null,
   "id": "b8767945",
   "metadata": {
    "colab": {
     "background_save": true
    },
    "id": "b8767945"
   },
   "outputs": [],
   "source": [
    "df_phone_brand_device_model=pd.DataFrame(phone_brand_device_model)"
   ]
  },
  {
   "cell_type": "code",
   "execution_count": null,
   "id": "e4146395",
   "metadata": {
    "colab": {
     "background_save": true
    },
    "id": "e4146395",
    "outputId": "eaa71b0d-656c-464b-fb9c-6c49d3e0b602"
   },
   "outputs": [],
   "source": [
    "df_phone_brand_device_model.shape"
   ]
  },
  {
   "cell_type": "code",
   "execution_count": null,
   "id": "ea0ca1e8",
   "metadata": {
    "colab": {
     "background_save": true
    },
    "id": "ea0ca1e8"
   },
   "outputs": [],
   "source": [
    "# disconnecting from server\n",
    "dataBase.close()"
   ]
  },
  {
   "cell_type": "markdown",
   "id": "2b3e3270",
   "metadata": {
    "id": "2b3e3270"
   },
   "source": [
    "#### EDA"
   ]
  },
  {
   "cell_type": "code",
   "execution_count": null,
   "id": "f90e855f",
   "metadata": {
    "id": "f90e855f",
    "outputId": "19a40cb5-2633-4b55-98f3-a97602a808f7"
   },
   "outputs": [],
   "source": [
    "df_events_data.info(show_counts=True)"
   ]
  },
  {
   "cell_type": "code",
   "execution_count": null,
   "id": "5455d66a",
   "metadata": {
    "id": "5455d66a",
    "outputId": "5158621a-4726-49c0-fd72-300995c5022f"
   },
   "outputs": [],
   "source": [
    "df_events_data.isna().sum()"
   ]
  },
  {
   "cell_type": "code",
   "execution_count": null,
   "id": "7de9d77f",
   "metadata": {
    "id": "7de9d77f",
    "outputId": "5a6cf8a1-8181-453a-a8ae-f61cff5b5a64"
   },
   "outputs": [],
   "source": [
    "df_events_data.head()"
   ]
  },
  {
   "cell_type": "code",
   "execution_count": null,
   "id": "05d747b6",
   "metadata": {
    "id": "05d747b6",
    "outputId": "762b40bb-8fd4-495b-eb11-6a2d29a70954"
   },
   "outputs": [],
   "source": [
    "df_events_data[df_events_data['state'].isna()]['city'].unique()"
   ]
  },
  {
   "cell_type": "code",
   "execution_count": null,
   "id": "bb613df8",
   "metadata": {
    "id": "bb613df8",
    "outputId": "2bef5e78-b9d8-40c4-9401-4762f493986b"
   },
   "outputs": [],
   "source": [
    "df_events_data['state'].unique()"
   ]
  },
  {
   "cell_type": "code",
   "execution_count": null,
   "id": "8f27e1dc",
   "metadata": {
    "id": "8f27e1dc"
   },
   "outputs": [],
   "source": [
    "def statenullvalueupdate(row):\n",
    "    \"\"\"This function is used to update stae column based on city column for null values\"\"\"\n",
    "    if row['city']=='Pune':\n",
    "        row['state']='Maharashtra'\n",
    "    elif row['city']=='Visakhapatnam':\n",
    "        row['state']='AndhraPradesh'\n",
    "    elif row['city']=='Indore':\n",
    "        row['state']='MadhyaPradesh'\n",
    "    elif row['city']=='Chennai':\n",
    "        row['state']='TamilNadu'\n",
    "    elif row['city']=='Delhi':\n",
    "        row['state']='Delhi'\n",
    "    elif row['city']=='Channapatna':\n",
    "        row['state']='Karnataka'\n",
    "    elif row['city']=='Jaipur':\n",
    "        row['state']='Rajasthan'\n",
    "    elif row['city']=='Gangarampur':\n",
    "        row['state']='WestBengal'\n",
    "    elif row['city']=='Arambagh':\n",
    "        row['state']='WestBengal'\n",
    "    \n",
    "    return row"
   ]
  },
  {
   "cell_type": "code",
   "execution_count": null,
   "id": "4abf1f7b",
   "metadata": {
    "id": "4abf1f7b"
   },
   "outputs": [],
   "source": [
    "dfnull=df_events_data[df_events_data['state'].isna()]"
   ]
  },
  {
   "cell_type": "code",
   "execution_count": null,
   "id": "ca74b91f",
   "metadata": {
    "id": "ca74b91f",
    "outputId": "09b5c22f-dcf7-45ef-aaa4-1b0a2dda4784"
   },
   "outputs": [],
   "source": [
    "dfnull.shape"
   ]
  },
  {
   "cell_type": "code",
   "execution_count": null,
   "id": "9cf0206d",
   "metadata": {
    "id": "9cf0206d",
    "outputId": "e0a663de-062c-4e06-b991-67b84c8ac56b"
   },
   "outputs": [],
   "source": [
    "dfnull.info()"
   ]
  },
  {
   "cell_type": "code",
   "execution_count": null,
   "id": "03f3c05f",
   "metadata": {
    "id": "03f3c05f"
   },
   "outputs": [],
   "source": [
    "dfnull=dfnull.apply(lambda x:statenullvalueupdate(x),axis=1)"
   ]
  },
  {
   "cell_type": "code",
   "execution_count": null,
   "id": "75defad0",
   "metadata": {
    "id": "75defad0",
    "outputId": "7292c5fd-54ea-4f3d-d387-9520661a0a80"
   },
   "outputs": [],
   "source": [
    "dfnull.head()"
   ]
  },
  {
   "cell_type": "code",
   "execution_count": null,
   "id": "6908ae1a",
   "metadata": {
    "id": "6908ae1a"
   },
   "outputs": [],
   "source": [
    "df_events_data.update(dfnull)"
   ]
  },
  {
   "cell_type": "code",
   "execution_count": null,
   "id": "0d40043e",
   "metadata": {
    "id": "0d40043e",
    "outputId": "f0cff80c-40e8-4917-c2c4-78d40064c5ed"
   },
   "outputs": [],
   "source": [
    "df_events_data.info(show_counts=True)"
   ]
  },
  {
   "cell_type": "code",
   "execution_count": null,
   "id": "41148f1d",
   "metadata": {
    "id": "41148f1d",
    "outputId": "86f88112-7ce1-48a6-9970-812a3786b274"
   },
   "outputs": [],
   "source": [
    "df_events_data.isna().sum()"
   ]
  },
  {
   "cell_type": "code",
   "execution_count": null,
   "id": "4910c4d1",
   "metadata": {
    "id": "4910c4d1",
    "outputId": "48c37af5-5432-455f-9f83-6e14ab31f272"
   },
   "outputs": [],
   "source": [
    "df_events_data.shape"
   ]
  },
  {
   "cell_type": "code",
   "execution_count": null,
   "id": "a062c42c",
   "metadata": {
    "id": "a062c42c",
    "outputId": "1d46bb73-cf58-4298-d473-4e6960a6db15",
    "scrolled": true
   },
   "outputs": [],
   "source": [
    "df_gender_age_train.info(show_counts=True)"
   ]
  },
  {
   "cell_type": "code",
   "execution_count": null,
   "id": "361ca2ed",
   "metadata": {
    "id": "361ca2ed",
    "outputId": "f69778c3-166b-4d80-ab62-931c0c45f07f"
   },
   "outputs": [],
   "source": [
    "df_gender_age_train.isna().sum()"
   ]
  },
  {
   "cell_type": "code",
   "execution_count": null,
   "id": "aa78eb51",
   "metadata": {
    "id": "aa78eb51",
    "outputId": "e826fa29-ec30-4673-b8ac-507eda10f1d6"
   },
   "outputs": [],
   "source": [
    "df_gender_age_train.head()"
   ]
  },
  {
   "cell_type": "code",
   "execution_count": null,
   "id": "ec4c87aa",
   "metadata": {
    "id": "ec4c87aa"
   },
   "outputs": [],
   "source": [
    "#Changing column names\n",
    "df_gender_age_train.rename(columns={0:'device_id',1:'gender',2:'age',3:'age_group'},inplace=True)"
   ]
  },
  {
   "cell_type": "code",
   "execution_count": null,
   "id": "4149e95c",
   "metadata": {
    "id": "4149e95c",
    "outputId": "e97f5841-fa5e-41e3-a433-b2a821a1e631"
   },
   "outputs": [],
   "source": [
    "df_gender_age_train.head()"
   ]
  },
  {
   "cell_type": "code",
   "execution_count": null,
   "id": "d65f131e",
   "metadata": {
    "id": "d65f131e"
   },
   "outputs": [],
   "source": [
    "df_gender_age_train['device_id'] =df_gender_age_train['device_id'].astype(float)"
   ]
  },
  {
   "cell_type": "code",
   "execution_count": null,
   "id": "0d75a2bd",
   "metadata": {
    "id": "0d75a2bd",
    "outputId": "cd3c7ad6-483e-4bd4-ac8b-d0ec904cdfc7"
   },
   "outputs": [],
   "source": [
    "df_gender_age_train.info()"
   ]
  },
  {
   "cell_type": "code",
   "execution_count": null,
   "id": "f9fd11aa",
   "metadata": {
    "id": "f9fd11aa",
    "outputId": "48eba927-25b9-47f8-df12-17c2a425b9e1"
   },
   "outputs": [],
   "source": [
    "df_gender_age_train['age'].unique()"
   ]
  },
  {
   "cell_type": "markdown",
   "id": "4c18b770",
   "metadata": {
    "id": "4c18b770"
   },
   "source": [
    "##### Box Plot for Age column to verify outliers"
   ]
  },
  {
   "cell_type": "code",
   "execution_count": null,
   "id": "85908b90",
   "metadata": {
    "id": "85908b90",
    "outputId": "0abe3c6a-9b6e-4adf-d862-4cf6c64be4e4"
   },
   "outputs": [],
   "source": [
    "plt.figure(figsize=(11,7))\n",
    "sns.boxplot(x=df_gender_age_train['age'])\n",
    "plt.show()"
   ]
  },
  {
   "cell_type": "markdown",
   "id": "497a28e8",
   "metadata": {
    "id": "497a28e8"
   },
   "source": [
    "#### This code is to verify age_group and age correctly mapped. Based on the below query noticed that, age_group and age are correctly mapped"
   ]
  },
  {
   "cell_type": "code",
   "execution_count": null,
   "id": "4c183672",
   "metadata": {
    "id": "4c183672"
   },
   "outputs": [],
   "source": [
    "agegrouplist_M=df_gender_age_train[df_gender_age_train['gender']=='M']['age_group'].value_counts().index.to_list()"
   ]
  },
  {
   "cell_type": "code",
   "execution_count": null,
   "id": "9a9595cb",
   "metadata": {
    "id": "9a9595cb",
    "outputId": "a1d04909-abba-463d-a816-2eef227d21c0"
   },
   "outputs": [],
   "source": [
    "for i in agegrouplist_M:\n",
    "    print(i)\n",
    "    print(df_gender_age_train[df_gender_age_train['age_group']==i]['age'].value_counts())"
   ]
  },
  {
   "cell_type": "code",
   "execution_count": null,
   "id": "8ce0fff0",
   "metadata": {
    "id": "8ce0fff0"
   },
   "outputs": [],
   "source": [
    "agegrouplist_F=df_gender_age_train[df_gender_age_train['gender']=='F']['age_group'].value_counts().index.to_list()"
   ]
  },
  {
   "cell_type": "code",
   "execution_count": null,
   "id": "4d03e51f",
   "metadata": {
    "id": "4d03e51f",
    "outputId": "1dde5ba8-da8e-43cd-a61f-bb32e39f9679"
   },
   "outputs": [],
   "source": [
    "for i in agegrouplist_F:\n",
    "    print(i)\n",
    "    print(df_gender_age_train[df_gender_age_train['age_group']==i]['age'].value_counts())"
   ]
  },
  {
   "cell_type": "code",
   "execution_count": null,
   "id": "e06b3fe4",
   "metadata": {
    "id": "e06b3fe4",
    "outputId": "57c565e7-dffb-49cd-ea53-4d4a539204ce"
   },
   "outputs": [],
   "source": [
    "df_phone_brand_device_model.info(show_counts=True)"
   ]
  },
  {
   "cell_type": "code",
   "execution_count": null,
   "id": "a10af5f5",
   "metadata": {
    "id": "a10af5f5",
    "outputId": "25cf2ee0-fd80-427b-c751-dac46113f971"
   },
   "outputs": [],
   "source": [
    "df_phone_brand_device_model.isna().sum()"
   ]
  },
  {
   "cell_type": "code",
   "execution_count": null,
   "id": "e317fe8e",
   "metadata": {
    "id": "e317fe8e",
    "outputId": "47a9fa12-6f25-4bf1-a1dd-6a838623b7d1"
   },
   "outputs": [],
   "source": [
    "df_phone_brand_device_model.head()"
   ]
  },
  {
   "cell_type": "code",
   "execution_count": null,
   "id": "515f8730",
   "metadata": {
    "id": "515f8730"
   },
   "outputs": [],
   "source": [
    "#Changing column names\n",
    "df_phone_brand_device_model.rename(columns={0:'device_id',1:'brand',2:'model'},inplace=True)"
   ]
  },
  {
   "cell_type": "code",
   "execution_count": null,
   "id": "1dd4411c",
   "metadata": {
    "id": "1dd4411c",
    "outputId": "b96d2e13-b301-4007-b384-543cc1bf4917"
   },
   "outputs": [],
   "source": [
    "df_phone_brand_device_model.head()"
   ]
  },
  {
   "cell_type": "code",
   "execution_count": null,
   "id": "032ccf4d",
   "metadata": {
    "id": "032ccf4d"
   },
   "outputs": [],
   "source": [
    "df_phone_brand_device_model['device_id'] =df_phone_brand_device_model['device_id'].astype(float)"
   ]
  },
  {
   "cell_type": "code",
   "execution_count": null,
   "id": "7f395431",
   "metadata": {
    "id": "7f395431",
    "outputId": "c27338ee-bd5f-46b2-b14b-11b7ce4f243e"
   },
   "outputs": [],
   "source": [
    "df_phone_brand_device_model.info()"
   ]
  },
  {
   "cell_type": "markdown",
   "id": "4e13a8c2",
   "metadata": {
    "id": "4e13a8c2"
   },
   "source": [
    "##### Getting the data related to States MadhyaPradesh, Chhattisgarh, Uttaranchal, JammuandKashmir, Goa, Nagaland, as we need to concentrate on these states only"
   ]
  },
  {
   "cell_type": "code",
   "execution_count": null,
   "id": "f37075e2",
   "metadata": {
    "id": "f37075e2"
   },
   "outputs": [],
   "source": [
    "eventsdata=df_events_data[df_events_data['state'].isin(['MadhyaPradesh', 'Chhattisgarh', 'Uttaranchal', 'JammuandKashmir', 'Goa', 'Nagaland'])]"
   ]
  },
  {
   "cell_type": "code",
   "execution_count": null,
   "id": "d9bfd91f",
   "metadata": {
    "id": "d9bfd91f",
    "outputId": "812ee7fc-560b-4f31-c786-ec116f7bc4bf"
   },
   "outputs": [],
   "source": [
    "eventsdata.shape"
   ]
  },
  {
   "cell_type": "code",
   "execution_count": null,
   "id": "9daedba8",
   "metadata": {
    "id": "9daedba8",
    "outputId": "6472e8ea-6357-4520-8d79-c07614ea0891"
   },
   "outputs": [],
   "source": [
    "eventsdata.isna().sum()"
   ]
  },
  {
   "cell_type": "code",
   "execution_count": null,
   "id": "794363cc",
   "metadata": {
    "id": "794363cc",
    "outputId": "0d0ecd80-0ed0-4e94-a291-d7ae0f3817c0"
   },
   "outputs": [],
   "source": [
    "eventsdata.info()"
   ]
  },
  {
   "cell_type": "markdown",
   "id": "e2e87013",
   "metadata": {
    "id": "e2e87013"
   },
   "source": [
    "#### Joining 3 tables using Inner join"
   ]
  },
  {
   "cell_type": "code",
   "execution_count": null,
   "id": "3778a85a",
   "metadata": {
    "id": "3778a85a"
   },
   "outputs": [],
   "source": [
    "data=eventsdata.merge(df_gender_age_train,on='device_id',how='inner').merge(df_phone_brand_device_model,on='device_id',how='inner')"
   ]
  },
  {
   "cell_type": "code",
   "execution_count": null,
   "id": "46f09af8",
   "metadata": {
    "id": "46f09af8",
    "outputId": "115452ff-76b4-48cc-c12d-2d7c699a61a2"
   },
   "outputs": [],
   "source": [
    "data.shape"
   ]
  },
  {
   "cell_type": "code",
   "execution_count": null,
   "id": "f8ea9ce6",
   "metadata": {
    "id": "f8ea9ce6",
    "outputId": "1939450d-c35d-4854-9fd5-c564cac0a654"
   },
   "outputs": [],
   "source": [
    "data.isna().sum()"
   ]
  },
  {
   "cell_type": "code",
   "execution_count": null,
   "id": "f133fa60",
   "metadata": {
    "id": "f133fa60",
    "outputId": "55d8f66b-8de5-4d26-d5f5-2720cb666a13"
   },
   "outputs": [],
   "source": [
    "data.info(show_counts=True)"
   ]
  },
  {
   "cell_type": "markdown",
   "id": "caefd386",
   "metadata": {
    "id": "caefd386"
   },
   "source": [
    "#### Filling Null values for longitude and latitude"
   ]
  },
  {
   "cell_type": "code",
   "execution_count": null,
   "id": "eb05770c",
   "metadata": {
    "id": "eb05770c"
   },
   "outputs": [],
   "source": [
    "data['longitude'].fillna(data[data['city']=='Indore']['longitude'].mode()[0],inplace=True)\n",
    "data['latitude'].fillna(data[data['city']=='Indore']['latitude'].mode()[0],inplace=True)"
   ]
  },
  {
   "cell_type": "code",
   "execution_count": null,
   "id": "726b8c0c",
   "metadata": {
    "id": "726b8c0c",
    "outputId": "d5630fe7-4917-4b97-8831-190798b0b599"
   },
   "outputs": [],
   "source": [
    "data.info(show_counts=True)"
   ]
  },
  {
   "cell_type": "code",
   "execution_count": null,
   "id": "cd5f64dd",
   "metadata": {
    "id": "cd5f64dd",
    "outputId": "d9018fdc-a60e-4136-d090-728c2a344829"
   },
   "outputs": [],
   "source": [
    "data.head()"
   ]
  },
  {
   "cell_type": "markdown",
   "id": "429cc40d",
   "metadata": {
    "id": "429cc40d"
   },
   "source": [
    "#### Below code is to replace all Chinese brand data to corresponding English "
   ]
  },
  {
   "cell_type": "code",
   "execution_count": null,
   "id": "d5437d78",
   "metadata": {
    "id": "d5437d78"
   },
   "outputs": [],
   "source": [
    "from translate import Translator\n",
    "translator= Translator(from_lang=\"chinese\",to_lang=\"english\")"
   ]
  },
  {
   "cell_type": "code",
   "execution_count": null,
   "id": "12ea2740",
   "metadata": {
    "id": "12ea2740"
   },
   "outputs": [],
   "source": [
    "import re\n",
    "#data['brand_eng']=data['brand'].apply(lambda x:translator.translate(x))\n",
    "#data['brand_eng']=data['brand'].apply(lambda x:translator.translate(x) if re.search(\"[\\u4e00-\\u9FFF]\", x) else x)"
   ]
  },
  {
   "cell_type": "code",
   "execution_count": null,
   "id": "e1532fbc",
   "metadata": {
    "id": "e1532fbc"
   },
   "outputs": [],
   "source": [
    "brand_dict={'vivo': 'vivo', 'HTC': 'HTC', 'OPPO': 'OPPO', '华为': 'Huawei', 'LG': 'LG', '优米': 'Quality rice',\n",
    "            '三星': 'Samsung', '小米': 'Xiaomi', '魅族': 'Meizu', '联想 ': 'Lenovo', 'PPTV': 'PPTV', '酷派': 'Coolpad', \n",
    "            '乐视': 'LeEco', '锤子': 'Hammer', 'Lovme': 'Lovme', '努比亚': 'Nubia', 'TCL': 'TCL', '酷珀': 'Cooper', \n",
    "            '中国移动': 'China Mobile', '一加': 'one plus', '朵唯': 'Dove', '语信': 'language letter', '米歌': 'Mi Ge', \n",
    "            '酷比魔方': 'Cube Rubik&#39;s Cube', '富可视': 'InFocus', '青橙': 'Qing Cheng', '酷比': 'Cool than', \n",
    "            '首云': 'Shouyun', '夏新': 'Amoi', '乡米': 'rural rice', '波导': 'Waveguide', '天语': 'New SX4', '奇酷': 'cool', \n",
    "            '梦米': 'dream rice', '百加': 'Bacardi', '爱派尔': 'Apple', '摩托罗拉': 'Motorola', '诺基亚': 'Nokia', \n",
    "            '海信': 'Hisense', '易派': 'Epay', '华硕': 'ASUS', '青葱': 'green onion', '海尔': 'Haier', \n",
    "            '美图': 'beautiful picture', '维图': 'Dimensional', '黑米': 'black rice', '亿通': 'Billiontone', \n",
    "            '纽曼': 'Newmann', '先锋': 'Xianfeng Railway Station', '百立丰': 'Bailifeng', '飞秒': 'Femtosecond', \n",
    "            'E派': 'E Pie', '邦华': 'Banghua', '果米': 'fruit rice', '艾优尼': 'Ayuni', '欧博信': 'Obersin', '贝尔丰': 'Belfon', \n",
    "            '欧新': 'Ou Xin', 'SUGAR': 'SUGAR', '小杨树': 'small poplar'}"
   ]
  },
  {
   "cell_type": "code",
   "execution_count": null,
   "id": "20a661db",
   "metadata": {
    "id": "20a661db"
   },
   "outputs": [],
   "source": [
    "data['brand_eng']=data['brand'].map(brand_dict)"
   ]
  },
  {
   "cell_type": "markdown",
   "id": "0168d44d",
   "metadata": {
    "id": "0168d44d"
   },
   "source": [
    "#### Below code is to replace all Chinese model data to corresponding English "
   ]
  },
  {
   "cell_type": "markdown",
   "id": "1e9e017f",
   "metadata": {
    "id": "1e9e017f"
   },
   "source": [
    "#This is just a sample code to fill the dictionary \n",
    "model_dict_1 = {}\n",
    "\n",
    "lst_model_1=['Desire 816x', 'L108', 'T87+', 'A670t',\n",
    "'One E8', 'G610S', 'Y330', '麦芒3', 'R833T', 'R1C', 'X5Max', 'M032','X6', 'Desire 816', 'One X', 'Y18L', '小鲜2', '8089', '青春版']\n",
    "\n",
    "for i in lst_model_1:\n",
    "    if re.search(\"[\\u4e00-\\u9FFF]\", i):\n",
    "        translation = translator.translate(i)\n",
    "    else:\n",
    "        translation = i\n",
    "    model_dict_1[i] = translation\n",
    "    print(i, \" ==> \", translation)\n",
    "\n",
    "print(model_dict_1)"
   ]
  },
  {
   "cell_type": "code",
   "execution_count": null,
   "id": "3412d4c2",
   "metadata": {
    "id": "3412d4c2"
   },
   "outputs": [],
   "source": [
    "model_dict={'Y928' : 'Y928','Sensation XE with Beats Audio Z715e' : 'Sensation XE with Beats Audio Z715e','R1' : 'R1',\n",
    "'荣耀7' : 'glory 7','Y33' : 'Y33','G2' : 'G2','U705T' : 'U705T','R823T' : 'R823T','Galaxy Grand 2': 'Galaxy Grand 2',\n",
    "'R831S' : 'R831S','MI 2' : 'MI 2','MX4' : 'MX4','荣耀畅玩4X' : 'Honor Play 4X','Galaxy S4' : 'Galaxy S4','X3S' : 'X3S','MI 4' : 'MI 4',\n",
    "'红米note' : 'redmi note','乐檬K3 Note' : 'Lemeng K3 Note','Galaxy S6' : 'Galaxy S6','MI 2S' : 'MI 2S','A31' : 'A31','Xperia Z2' : 'Xperia Z2',\n",
    "'R7' : 'R7','V889D' : 'V889D','荣耀3X畅玩版' : 'Honor 3X Play Edition','红米Note2' : 'redmi note2','King 7s' : 'King 7s','Y22L' : 'Y22L','X3T' : 'X3T',\n",
    "'N1 Mini' : 'N1 Mini','Galaxy Note 2' : 'Galaxy Note 2','Galaxy Mega 5.8' : 'Galaxy Mega 5.8','Find 5' : 'Find 5','Ascend G7' : 'Ascend G7',\n",
    "'Xperia SL' : 'Xperia SL','Galaxy J5' : 'Galaxy J5','GN9002' : 'GN9002','Galaxy S2' : 'Galaxy S2','Galaxy Note 3' : 'Galaxy Note 3','红米' : 'Red rice',\n",
    "'荣耀X2' : 'Honor X2','超级手机1 Pro' : 'Super Phone 1 Pro','红米1S' : 'Redmi 1S','荣耀畅玩4' : 'Honor Play 4','Galaxy S5' : 'Galaxy S5',\n",
    "'note顶配版' : 'note top version','MI 2A' : 'MI 2A','荣耀6' : 'glory 6','MI pad' : 'MI pad','MI 3':'MI 3','6607':'6607','Galaxy S4 Zoom' : 'Galaxy S4 Zoom',\n",
    "'MX2' : 'MX2Z','Galaxy S3' : 'Galaxy S3','MX3' : 'MX3','Ascend P7' : 'Ascend P7','S6' : 'S6','MX5' : 'MX5','MI 2C' : 'MI 2C',\n",
    "'Desire 7088' : 'Desire 7088','UIMI4' : 'UIMI4','Y11' : 'Y11','小米note' : 'Xiaomi note','Y27' : 'Y27','ELIFE E3T' : 'ELIFE E3T','Xplay' : 'Xplay',\n",
    "'魅蓝metal' : 'Charm blue metal','魅蓝2' : 'Charm Blue 2','8729' : '8729','Galaxy A7' : 'Galaxy A7','魅蓝NOTE' : 'Charm Blue NOTE',\n",
    "'红米note增强版' : 'Redmi Note Enhanced Edition','荣耀3C' : 'Honor 3C','超级手机1s' : 'Super phone 1s','Galaxy Grand' : 'Galaxy Grand','T1' : 'T1',\n",
    "'I8258' : 'I8258','MI One C1' : 'MI One C1','Galaxy Style DUOS' : 'Galaxy Style DUOS','Y22IL' : 'Y22IL','A800' : 'A800','G520-0000' : 'G520-0000',\n",
    "'S7' : 'S7','红米2' : 'red rice 2','Galaxy S6 Edge+' : 'Galaxy S6 Edge+','B199' : 'B199','R7 Plus' : 'R7 Plus','X3L' : 'X3L','Galaxy Win' : 'Galaxy Win',\n",
    "'Mate 7' : 'Mate 7','A788t' : 'A788t','F2' : 'F2','麦芒4' : 'Maimang 4','T9' : 'T9','A820' : 'A820','Xperia arc S' : 'Xperia arc S','Q505T' : 'Q505T',\n",
    "'GN139' : 'GN139','3007' : '3007','R2017' : 'R2017','7620l' : '7620l','大神F1' : 'Great God F1','X1ST' : 'X1ST','T328w' : 'T328w','5891' : '5891',\n",
    "'Y17T' : 'Y17T','A330e' : 'A330e','Y13L' : 'Y13L','8190' : '8190','Z7 Mini' : 'Z7 Mini','R827T' : 'R827T','Ascend GX1' : 'Ascend GX1','N1T' : 'N1T',\n",
    "'Xperia Z' : 'Xperia Z','联想黄金斗士S8' : 'Lenovo Gold Fighter S8','Nexus 5' : 'Nexus 5','Mate 8' : 'Mate 8','Y511-T00' : 'Y511-T00',\n",
    "'魅蓝Note 2' : 'Meizu Note 2','荣耀6 Plus' : 'Honor 6 Plus','MI 5' : 'MI 5','G620-L75' : 'G620-L75','5892' : '5892','么么哒' : 'Meme da',\n",
    "'Galaxy S Advance' : 'Galaxy S Advance','X5Pro' : 'X5Pro','Ascend G700' : 'Ascend G700','Xperia S' : 'Xperia S','Xplay3S' : 'Xplay3S','R3' : 'R3',\n",
    "'Z5S Mini' : 'Z5S Mini','Galaxy S6 Edge' : 'Galaxy S6 Edge','R7s' : 'R7s','SM-T2556' : 'SM-T2556','Y913' : 'Y913','V185' : 'V185','锋尚' : 'Frontier',\n",
    "'A53' : 'A53','Galaxy Trend 3' : 'Galaxy Trend 3','Ascend P6' : 'Ascend P6','7105' : '7105','红米2A' : 'redmi 2A','荣耀畅玩5X' : 'Honor Play 5X',\n",
    "'S5.1' : 'S5.1','R821T' : 'R821T','Xperia SP' : 'Xperia SP','7296' : '7296','7295+' : '7295+','7269' : '7269','X5L' : 'X5L','7295C' : '7295C',\n",
    "'Galaxy Note' : 'Galaxy Note','8190Q' : '8190Q','G3818' : 'G3818','X5Max+' : 'X5Max+','MI 1S' : 'MI 1S','荣耀畅玩4C' : 'Honor Play 4C',\n",
    "'Galaxy Mega Plus' : 'Galaxy Mega Plus','Galaxy Premier' : 'Galaxy Premier','L7' : 'L7','P8 Lite' : 'P8 Lite','C8815' : 'C8815','A1' : 'A1','Y500' : 'Y500',\n",
    "'A11' : 'A11','Two' : 'Two','R5' : 'R5','MI One Plus' : 'MI One Plus','Galaxy S2 Plus' : 'Galaxy S2 Plus','Y325' : 'Y325','A708t' : 'A708t','Y35' : 'Y35',\n",
    "'X5SL' : 'X5SL','G610T' : 'G610T','Ascend P8' : 'Ascend P8','GN705' : 'GN705','E8' : 'E8','Galaxy S3 Neo+' : 'Galaxy S3 Neo+','G717C' : 'G717C',\n",
    "'G750-T20' : 'G750-T20','Vibe Shot' : 'Vibe Shot','G730-U00' : 'G730-U00','L1' : 'L1','C8816' : 'C8816','5263' : '5263','7231' : '7231',\n",
    "'Galaxy Trend DUOS 2' : 'Galaxy Trend DUOS 2','X5M' : 'X5M','Y23L' : 'Y23L','Galaxy Note 3 Lite' : 'Galaxy Note 3 Lite','7260' : '7260','One' : 'One',\n",
    "'Galaxy Mega 6.3' : 'Galaxy Mega 6.3','Desire 610t' : 'Desire 610t','T329t' : 'T329t','N3' : 'N3','F103' : 'F103','Xperia Z1':'Xperia Z1','Y13iL' : 'Y13iL',\n",
    "'Galaxy Grand DUOS' : 'Galaxy Grand DUOS','C8818' : 'C8818','M8' : 'M8','荣耀4A' : 'Honor 4A','Blade S6' : 'Blade S6','E6T' : 'E6T','A51' : 'A51',\n",
    "'小辣椒 M2' : 'little tomboy','大器2' : 'Big 2','乐玩' : 'have fun','R1S' : 'R1S','小米4C' : 'Xiaomi 4C','3' : '3','795+' : '795+','M201S' : 'M201S',\n",
    "'U707T' : 'U707T','A3000-H' : 'A3000-H','G7200' : 'G7200','7251' : '7251','MX4 Pro' : 'MX4 Pro','Find 7' : 'Find 7','Z5S' : 'Z5S','Y51' : 'Y51',\n",
    "'9976A' : '9976A','G615-U10' : 'G615-U10','T35' : 'T35','Galaxy E7' : 'Galaxy E7','A860e' : 'A860e','8750' : '8750','Y635' : 'Y635','1107' : '1107',\n",
    "'A850' : 'A850','M8St' : 'M8St','R8205' : 'R8205','荣耀畅玩4C运动版' : 'Honor Play 4C Sports Edition','8085' : '8085','Y15' : 'Y15','M512' : 'M512',\n",
    "'N2' : 'N2','E7' : 'E7','R6007' : 'R6007','Q802T' : 'Q802T','Y927' : 'Y927','Galaxy Note 4' : 'Galaxy Note 4','M310' : 'M310','Galaxy On5' : 'Galaxy On5',\n",
    "'C8813Q' : 'C8813Q','M812C' : 'M812C','R819T' : 'R819T','U701' : 'U701','A33' : 'A33','Y29L' : 'Y29L','5872' : '5872',\n",
    "'大神F2全高清版':'Great God F2 full HDversion','Nexus S' : 'Nexus S','Galaxy A5' : 'Galaxy A5','G660-L075' : 'G660-L075','GN151' : 'GN151',\n",
    "'Y600-U00' : 'Y600-U00','G3609' : 'G3609','X1' : 'X1','One M8' : 'One M8','M100' : 'M100','A850+' : 'A850+','S850' : 'S850','红米Note3' : 'redmi note3',\n",
    "'G730-T00' : 'G730-T00','Galaxy J7' : 'Galaxy J7','V5 Max' : 'V5 Max','D350' : 'D350','荣耀畅玩5' : 'Honor Play 5','R831T' : 'R831T',\n",
    "'Galaxy S Plus' : 'Galaxy S Plus','5956' : '5956','P301M' : 'P301M','A820t' : 'A820t','荣耀7i' : 'Honor 7i','A3800d' : 'A3800d','Y511-U00' : 'Y511-U00',\n",
    "'Y13' : 'Y13','Ascend G700T':'Ascend G700T','S898t':'S898t','A830' : 'A830','A320t' : 'A320t','A678t' : 'A678t','Galaxy Grand 2 LTE':'Galaxy Grand 2 LTE',\n",
    "'Y628' : 'Y628','Xperia C3' : 'Xperia C3','SHV-E210L' : 'SHV-E210L','Nexus 4' : 'Nexus 4','X710L' : 'X710L','X907' : 'X907','K860i' : 'K860i',\n",
    "'Galaxy A3' : 'Galaxy A3','S7T' : 'S7T','One ME' : 'One ME','V955' : 'V955','C8817E' : 'C8817E','T5' : 'T5','P1' : 'P1','VIBE Z' : 'VIBE Z',\n",
    "'Galaxy Core Prime' : 'Galaxy Core Prime','R809T' : 'R809T','V5S' : 'V5S','X6 Plus D' : 'X6 Plus D','TALK 9X' : 'TALK 9X','8730L' : '8730L','T20L':'T20L',\n",
    "'S868t' : 'S868t','N821' : 'N821','X8888' : 'X8888','L5Pro' : 'L5Pro','X6 Plus' : 'X6 Plus','乐檬K3' : 'Lemont K3','Galaxy Ace 3' : 'Galaxy Ace 3',\n",
    "'A388t' : 'A388t','Mate 2' : 'Mate 2','Desire 816x': 'Desire 816x', 'L108': 'L108', 'T87+': 'T87+', 'A670t': 'A670t', 'One E8': 'One E8', 'G610S': \n",
    "'G610S', 'Y330': 'Y330', '麦芒3': 'Maimang 3', 'R833T': 'R833T', 'R1C': 'R1C', 'X5Max': 'X5Max', 'M032': 'M032', 'X6': 'X6', \n",
    "'Desire 816': 'Desire 816', 'One X': 'One X', 'Y18L': 'Y18L', '小鲜2': 'Small fresh 2', '8089': '8089', '青春版': 'Youth Edition',\n",
    " 'Z9 mini' : 'Z9 mini', 'A805e' : 'A805e', 'A889' : 'A889', 'A658t' : 'A658t', 'S5.5L' : 'S5.5L', 'M5' : 'M5',\n",
    "'5950' : '5950', 'S5000' : 'S5000', 'S9' : 'S9', 'P6' : 'P6', 'A890e' : 'A890e', 'U86' : 'U86', 'Y19T' : 'Y19T',\n",
    "'X6 D' : 'X6 D', 'S7I' : 'S7I', '5216D' : '5216D', 'R815T' : 'R815T', 'F301' : 'F301', 'V6' : 'V6',\n",
    "'超级手机1' : 'super phone 1', 'U9508' : 'U9508', '大神F1Plus' : 'Great God F1Plus', 'Y13T' : 'Y13T', 'S6T' : 'S6T',\n",
    "'Y300' : 'Y300', 'HN3-U01' : 'HN3-U01', 'Galaxy Grand Prime' : 'Galaxy Grand Prime', 'T9608' : 'T9608',\n",
    "'A690' : 'A690', '红辣椒' : 'Chili pepper', '黄金斗士A8' : 'Gold Fighter A8', 'iPh-800' : 'iPh-800',\n",
    "'坚果手机' : 'Nut phone', 'My 布拉格' : 'My Prague', 'MT1-U06' : 'MT1-U06', 'Galaxy Trend DUOS' : 'Galaxy Trend DUOS',\n",
    "'G3588V' : 'G3588V', 'F105' : 'F105', 'Galaxy Nexus' : 'Galaxy Nexus', '三星big foot' : 'foot', 'A828t' : 'A828t',\n",
    "'A880' : 'A880', 'XT910' : 'XT910', 'P8max' : 'P8max', 'GN715' : 'GN715', '8702' : '8702', 'Y11IW' : 'Y11IW',\n",
    "'802w' : '802w', 'N1' : 'N1', 'Galaxy Core Max' : 'Galaxy Core Max', 'H3' : 'H3', 'C8650' : 'C8650', 'A399' : 'A399',\n",
    "'X1S' : 'X1S', 'Z7 Max' : 'Z7 Max', 'Y17W' : 'Y17W', 'Y11IT' : 'Y11IT', 'Galaxy Grand Neo Plus' : 'Galaxy Grand Neo Plus',\n",
    "'7298D' : '7298D', 'XL' : 'XL', 'G11' : 'G11', 'HS-U978' : 'HS-U978', 'D500' : 'D500', '魅蓝' : 'Meilan',\n",
    "'S11T' : 'S11T', 'E5' : 'E5', 'Galaxy Win Pro' : 'Galaxy Win Pro', 'Z9 Max' : 'Z9 Max', 'A3' : 'A3', 'S2L' : 'S2L',\n",
    "'X1 7.0' : 'X1 7.0', 'A628t' : 'A628t', 'Desire 820' : 'Desire 820', 'Galaxy Trend 2' : 'Galaxy Trend 2',\n",
    "'U807' : 'U807', 'PRO5' : 'PRO5', 'ZenFone Max' : 'ZenFone Max', 'S7568' : 'S7568', 'VIBE Z2' : 'VIBE Z2',\n",
    "'Xperia Z3' : 'Xperia Z3', 'X5V' : 'X5V', 'Moto G' : 'Moto G', 'R830' : 'R830', 'A680' : 'A680', 'P520L' : 'P520L',\n",
    "'I8268' : 'I8268', 'G716' : 'G716', 'A798t' : 'A798t', 'metal 标准版' : 'Line metal', 'V183' : 'V183',\n",
    "'7270' : '7270', 'G610C' : 'G610C', 'Galaxy Core Mini' : 'Galaxy Core Mini', 'S880i' : 'S880i', 'G606' : 'G606',\n",
    "'A656' : 'A656', 'U950' : 'U950', 'A560' : 'A560', 'HT-I860' : 'HT-I860', 'Galaxy Core 2' : 'Galaxy Core 2',\n",
    "'A2580' : 'A2580', '606w' : '606w', 'A688t' : 'A688t', 'S5830I' : 'S5830I', 'C8816D' : 'C8816D', 'X805' : 'X805',\n",
    "'ELIFE E6 mini' : 'ELIFE E6 mini', 'C986t' : 'C986t', 'Desire 826' : 'Desire 826', 'Xperia C' : 'Xperia C',\n",
    "'G510' : 'G510', 'Galaxy Core Lite' : 'Galaxy Core Lite', '荣耀U8860' : 'Honor U8860', 'M4' : 'M4', 'UIMI3' : 'UIMI3',\n",
    "'A360t' : 'A360t', 'VT898' : 'VT898', 'Xperia Z Ultra' : 'Xperia Z Ultra', 'G525' : 'G525', 'Galaxy On7' : 'Galaxy On7',\n",
    "'ELIFE S5.5' : 'ELIFE S5.5', 'Galaxy Ace Dear' : 'Galaxy Ace Dear', '大神F2' : 'Great God F2', 'Y80D' : 'Y80D',\n",
    "'Galaxy Tab 3 8.0' : 'Galaxy Tab 3 8.0', 'MI 4S' : 'MI 4S', 'ivvi 小i' : 'ivvi small i', 'Galaxy Core 4G' : 'Galaxy Core 4G',\n",
    "'A199' : 'A199', '5316' : '5316', 'Galaxy Note 8.0' : 'Galaxy Note 8.0', 'K900' : 'K900', 'M1' : 'M1', 'Galaxy A8' : 'Galaxy A8',\n",
    "'N919' : 'N919', 'U960S3' : 'U960S3', 'A760' : 'A760', 'R813T' : 'R813T', 'G7 Plus' : 'G7 Plus', 'L1 mini' : 'L1 mini',\n",
    "'P3' : 'P3', 'U879' : 'U879', 'A8-50' : 'A8-50', '旗舰版' : 'Ultimate', 'Butterfly' : 'Butterfly', 'Y28L' : 'Y28L',\n",
    "'A278t' : 'A278t', 'Galaxy S3 Mini' : 'Galaxy S3 Mini', '8720L' : '8720L', 'S2y' : 'S2y', 'Galaxy Mega 2' : 'Galaxy Mega 2',\n",
    "'纽扣' : 'buttons', '7270-W00' : '7270-W00', 'A766' : 'A766', 'U817' : 'U817', 'Touch 2' : 'Touch 2', '9976D' : '9976D',\n",
    "'K88L' : 'K88L', '荣耀6 plus' : 'honor 6 plus', 'T8830Pro' : 'T8830Pro', 'idol3' : 'idol3', 'A355e' : 'A355e', '2' : '2',\n",
    "'Y610-U00' : 'Y610-U00', 'Moto X' : 'Moto X', 'A3900' : 'A3900', 'Galaxy Note Edge' : 'Galaxy Note Edge', 'MT2-C00' : 'MT2-C00',\n",
    "'S720i' : 'S720i', 'Y635-TL00' : 'Y635-TL00', '8712' : '8712', 'F303' : 'F303', '5200S' : '5200S', 'S720' : 'S720',\n",
    "'Galaxy Tab P1000' : 'Galaxy Tab P1000', 'A300t' : 'A300t', 'GN152' : 'GN152', 'Y321C' : 'Y321C', 'V967S' : 'V967S',\n",
    "'5890' : '5890', 'A378t' : 'A378t', 'Galaxy S2 HD LTE E120S' : 'Galaxy S2 HD LTE E120S', 'Y20T' : 'Y20T', 'I9050' : 'I9050',\n",
    "'8295M' : '8295M', '金钢' : 'Gold Steel', 'A789' : 'A789', 'H1' : 'H1', 'Grand S 2' : 'Grand S 2', 'A630t' : 'A630t',\n",
    "'S12' : 'S12', '5891Q' : '5891Q', 'N1 max' : 'N1 max', 'S3' : 'S3', 'E3' : 'E3', 'Mate S' : 'Mate S', 'L8' : 'L8',\n",
    "'Xperia TX' : 'Xperia TX', 'M601' : 'M601', '8017-T00' : '8017-T00', 'G520-5000' : 'G520-5000', 'X10i' : 'X10i',\n",
    "'Butterfly s' : 'Butterfly s', 'Y320T' : 'Y320T', '7295' : '7295', 'Y516' : 'Y516', 'P70' : 'P70', 'A269i' : 'A269i',\n",
    "'5951' : '5951', 'Y320' : 'Y320', 'M20-T' : 'M20-T', '9190l' : '9190l', 'N1W' : 'N1W', 'W2014' : 'W2014', 'T2' : 'T2',\n",
    "'W999' : 'W999', 'Touch 3' : 'Touch 3', 'M811' : 'M811', 'T7' : 'T7', 'G3819D' : 'G3819D', 'EG970' : 'EG970',\n",
    "'R817' : 'R817', '8713' : '8713', 'G730-C00' : 'G730-C00', 'iSuper S2' : 'iSuper S2', 'Xperia T2 Ultra' : 'Xperia T2 Ultra',\n",
    "'U930' : 'U930', 'E6' : 'E6', 'V70' : 'V70', 'P331M' : 'P331M', 'P880' : 'P880', 'D800' : 'D800', 'I9118' : 'I9118',\n",
    "'X68T' : 'X68T', 'Q701C' : 'Q701C', 'U701T' : 'U701T', 'B9388' : 'B9388', 'ZenFone 5' : 'ZenFone 5', 'Xperia U' : 'Xperia U',\n",
    "'Galaxy W' : 'Galaxy W', 'Mate' : 'Mate', 'M6' : 'M6', 'Galaxy Tab S T805C' : 'Galaxy Tab S T805C', 'GN708T' : 'GN708T',\n",
    "'VT888' : 'VT888', 'S7898' : 'S7898', 'Galaxy Tab 3 7.0' : 'Galaxy Tab 3 7.0', 'X3V' : 'X3V', '9180' : '9180',\n",
    "'MediaPad M2-803L' : 'MediaPad M2-803L', 'Galaxy Ace' : 'Galaxy Ace', 'Y37' : 'Y37', 'U3' : 'U3', 'Xshot' : 'Xshot',\n",
    "'Y923' : 'Y923', 'R811' : 'R811', 'A390t' : 'A390t', 'C8813' : 'C8813', 'A375e' : 'A375e', 'U956' : 'U956', 'A785e' : 'A785e',\n",
    "'G4' : 'G4', 'Z5 Mini' : 'Z5 Mini', 'L22' : 'L22', 'Q302C' : 'Q302C', 'Optimus G Pro' : 'Optimus G Pro', 'S850t' : 'S850t',\n",
    "'U818' : 'U818', '8722' : '8722', 'U51GT-W' : 'U51GT-W', 'GN180' : 'GN180', 'U59GT' : 'U59GT', 'S890' : 'S890', 'V4' : 'V4',\n",
    "'S899t' : 'S899t', 'A385e' : 'A385e', 'GN708W' : 'GN708W', 'A238t' : 'A238t', 'GN700W' : 'GN700W', 'IVO 6655' : 'IVO 6655',\n",
    "'Galaxy Alpha' : 'Galaxy Alpha', 'A858t' : 'A858t', 'BF A500' : 'BF A500', 'S7566' : 'S7566', 'A750e' : 'A750e', '春雷HD' : 'Spring Thunder HD',\n",
    "'A6800' : 'A6800', 'One S' : 'One S', 'GN5001S' : 'GN5001S', 'T80' : 'T80', 'A318t' : 'A318t', 'T708' : 'T708', 'S820' : 'S820', 'U930HD' : 'U930HD',\n",
    "'Desire 626' : 'Desire 626', '7268' : '7268', 'M3' : 'M3', 'G6-C00' : 'G6-C00', 'Galaxy Tab 3 10.1' : 'Galaxy Tab 3 10.1',\n",
    "'Xperia Z5 Premium' : 'Xperia Z5 Premium', '8705' : '8705', 'Y220T' : 'Y220T', 'IdeaTab A1010-T' : 'IdeaTab A1010-T',\n",
    "'Optimus LTE' : 'Optimus LTE', '8122' : '8122', 'MM1101' : 'MM1101', 'Xperia T' : 'Xperia T',\n",
    "'A2800d' : 'A2800d', '小辣椒 4' : 'little tomboy', '5219' : '5219', 'Mate 7 青春版' : 'Mate 7 Youth Edition', \n",
    "'Galaxy Ace Plus' : 'Galaxy Ace Plus', 'Ascend G6' : 'Ascend G6','7295A青春版' : '7295A Youth Edition','小鲜3' : 'Small Umami3','大神Note3' : 'Great Gods Note3',\n",
    "'红米3' : 'Red rice 3','荣耀3C畅玩版' : 'Rongyao 3C Enjoy 150 unique and brain-teasing levels. Version',\n",
    "'锋尚Pro' : 'Frontier Pro','黄金斗士Note8' : 'HUANG Jin Battle Knight Note8','天鉴W808' : 'heavenly mirror W808',\n",
    "'2016版 Galaxy A9' : '2016 Version Galaxy A9','倾城L3' : 'Fallen City L3','醉享' : 'drunk…Enjoy','大观4' : 'Great Guan 4',\n",
    "'星星2号' : 'Star2.','红辣椒Note' : 'Chili pepper Note','锋尚2' : 'Frontier 2','畅享5S' : 'Smooth communication, cohesion and friendship Enjoy 5S',\n",
    "'时尚手机' : 'Stylish Smartphone','麦芒3S' : 'wheat tip 3S','么么哒3N' : 'Meme da 3N','2016版 Galaxy A7' : '2016 Version Galaxy A7',\n",
    "'红辣椒任性版 Plus' : 'Chili pepper capricious Version Plus','超级手机Max' : 'Exceed Grade Smartphone Max','大神Note' : '大Great God Note',\n",
    "'荣耀3X' : 'Rongyao 3X','炫影S+' : 'Aion S 2019 Xuan 630 Shadow S+','红牛V5' : 'RedCowV5','TALK 7X四核' : 'TALK 7X Quad core','小辣椒S1' : 'little tomboy S1'}"
   ]
  },
  {
   "cell_type": "code",
   "execution_count": null,
   "id": "ca0cb88f",
   "metadata": {
    "id": "ca0cb88f"
   },
   "outputs": [],
   "source": [
    "data['model_eng']=data['model'].map(model_dict)"
   ]
  },
  {
   "cell_type": "markdown",
   "id": "759e9f66",
   "metadata": {
    "id": "759e9f66"
   },
   "source": [
    "#### Saving a Copy of Original Dataframe, just for saferside."
   ]
  },
  {
   "cell_type": "code",
   "execution_count": null,
   "id": "589ef81e",
   "metadata": {
    "id": "589ef81e"
   },
   "outputs": [],
   "source": [
    "data_copy=data.copy(deep=True)"
   ]
  },
  {
   "cell_type": "markdown",
   "id": "fcbc1e1d",
   "metadata": {
    "id": "fcbc1e1d"
   },
   "source": [
    "#### Plotting Folium map to verify discrepancies in latitude and longitude (as per communcation from INSAID)"
   ]
  },
  {
   "cell_type": "code",
   "execution_count": null,
   "id": "60f18675",
   "metadata": {
    "id": "60f18675"
   },
   "outputs": [],
   "source": [
    "import folium"
   ]
  },
  {
   "cell_type": "code",
   "execution_count": null,
   "id": "3f302a2d",
   "metadata": {
    "id": "3f302a2d"
   },
   "outputs": [],
   "source": [
    "dfsample=data.groupby(['state','city','latitude','longitude']).count().reset_index()"
   ]
  },
  {
   "cell_type": "code",
   "execution_count": null,
   "id": "f3524d31",
   "metadata": {
    "id": "f3524d31",
    "outputId": "83c4552c-5dfb-4265-d25b-a92ad5d5da34"
   },
   "outputs": [],
   "source": [
    "map_osm = folium.Map(location=[21.7679, 78.8718], zoom_start=2.5, tiles=\"Stamen Toner\")\n",
    "dfsample.apply(lambda row:folium.CircleMarker(location=[row[\"latitude\"], row[\"longitude\"]], \n",
    "                                              radius=10,tooltip=row['state']+'\\n'+row['city'],color=\"red\",\n",
    "                                              popup=str(row['latitude']) + '\\n'+str(row['longitude']))\n",
    "                                             .add_to(map_osm), axis=1)\n",
    "map_osm"
   ]
  },
  {
   "cell_type": "markdown",
   "id": "f3c8cd83",
   "metadata": {
    "id": "f3c8cd83"
   },
   "source": [
    "### Observation\n",
    "As per the above map we noticed that, three latitude and longitude having discrepancies.<br>\n",
    "Below are the three values related to latitude and longitude values which are having discrepancy.<br>\n",
    "41.8719 12.5674<br>\n",
    "25.2048 55.2708<br>\n",
    "34.5553 69.2075"
   ]
  },
  {
   "cell_type": "code",
   "execution_count": null,
   "id": "0fead5b6",
   "metadata": {
    "colab": {
     "base_uri": "https://localhost:8080/",
     "height": 164
    },
    "executionInfo": {
     "elapsed": 30,
     "status": "error",
     "timestamp": 1647013267649,
     "user": {
      "displayName": "Priyabrata Das",
      "photoUrl": "https://lh3.googleusercontent.com/a-/AOh14GjXy8bpDLec6rLJZFKv8LMzkHgIl19uFCgfEq3l3g=s64",
      "userId": "04783228310827393681"
     },
     "user_tz": -330
    },
    "id": "0fead5b6",
    "outputId": "590dff2d-b63d-4865-8314-d3c5b30ce515"
   },
   "outputs": [],
   "source": [
    "data[(data['latitude'].isin([41.8719,25.2048,34.5553])) & (data['longitude'].isin([12.5674,55.2708,69.2075]))]"
   ]
  },
  {
   "cell_type": "markdown",
   "id": "d7dc8fca",
   "metadata": {
    "id": "d7dc8fca"
   },
   "source": [
    "#### Replacing latitude and longitude values using Mode of Indore city"
   ]
  },
  {
   "cell_type": "code",
   "execution_count": null,
   "id": "b6a9d16b",
   "metadata": {
    "executionInfo": {
     "elapsed": 13,
     "status": "aborted",
     "timestamp": 1647013267638,
     "user": {
      "displayName": "Priyabrata Das",
      "photoUrl": "https://lh3.googleusercontent.com/a-/AOh14GjXy8bpDLec6rLJZFKv8LMzkHgIl19uFCgfEq3l3g=s64",
      "userId": "04783228310827393681"
     },
     "user_tz": -330
    },
    "id": "b6a9d16b"
   },
   "outputs": [],
   "source": [
    "lst=data[(data['latitude'].isin([41.8719,25.2048,34.5553])) & (data['longitude'].isin([12.5674,55.2708,69.2075]))].index"
   ]
  },
  {
   "cell_type": "code",
   "execution_count": null,
   "id": "b86fa379",
   "metadata": {
    "executionInfo": {
     "elapsed": 16,
     "status": "aborted",
     "timestamp": 1647013267641,
     "user": {
      "displayName": "Priyabrata Das",
      "photoUrl": "https://lh3.googleusercontent.com/a-/AOh14GjXy8bpDLec6rLJZFKv8LMzkHgIl19uFCgfEq3l3g=s64",
      "userId": "04783228310827393681"
     },
     "user_tz": -330
    },
    "id": "b86fa379"
   },
   "outputs": [],
   "source": [
    "data[data['city']=='Indore']['latitude'].mode()[0]"
   ]
  },
  {
   "cell_type": "code",
   "execution_count": null,
   "id": "12adcbfe",
   "metadata": {
    "executionInfo": {
     "elapsed": 17,
     "status": "aborted",
     "timestamp": 1647013267643,
     "user": {
      "displayName": "Priyabrata Das",
      "photoUrl": "https://lh3.googleusercontent.com/a-/AOh14GjXy8bpDLec6rLJZFKv8LMzkHgIl19uFCgfEq3l3g=s64",
      "userId": "04783228310827393681"
     },
     "user_tz": -330
    },
    "id": "12adcbfe"
   },
   "outputs": [],
   "source": [
    "for i in lst:\n",
    "    data.at[i,'latitude']=data[data['city']=='Indore']['latitude'].mode()[0]\n",
    "    data.at[i,'longitude']=data[data['city']=='Indore']['longitude'].mode()[0]"
   ]
  },
  {
   "cell_type": "code",
   "execution_count": null,
   "id": "f2ccf3e2",
   "metadata": {
    "executionInfo": {
     "elapsed": 17,
     "status": "aborted",
     "timestamp": 1647013267644,
     "user": {
      "displayName": "Priyabrata Das",
      "photoUrl": "https://lh3.googleusercontent.com/a-/AOh14GjXy8bpDLec6rLJZFKv8LMzkHgIl19uFCgfEq3l3g=s64",
      "userId": "04783228310827393681"
     },
     "user_tz": -330
    },
    "id": "f2ccf3e2"
   },
   "outputs": [],
   "source": [
    "data[(data['latitude'].isin([41.8719,25.2048,34.5553])) & (data['longitude'].isin([12.5674,55.2708,69.2075]))]"
   ]
  },
  {
   "cell_type": "code",
   "execution_count": null,
   "id": "33aa9c86",
   "metadata": {
    "executionInfo": {
     "elapsed": 17,
     "status": "aborted",
     "timestamp": 1647013267645,
     "user": {
      "displayName": "Priyabrata Das",
      "photoUrl": "https://lh3.googleusercontent.com/a-/AOh14GjXy8bpDLec6rLJZFKv8LMzkHgIl19uFCgfEq3l3g=s64",
      "userId": "04783228310827393681"
     },
     "user_tz": -330
    },
    "id": "33aa9c86"
   },
   "outputs": [],
   "source": [
    "dfsample=data.groupby(['state','city','latitude','longitude']).count().reset_index()"
   ]
  },
  {
   "cell_type": "markdown",
   "id": "c6b73f53",
   "metadata": {
    "id": "c6b73f53"
   },
   "source": [
    "#### Below is the map after values updated"
   ]
  },
  {
   "cell_type": "code",
   "execution_count": null,
   "id": "226bc315",
   "metadata": {
    "executionInfo": {
     "elapsed": 18,
     "status": "aborted",
     "timestamp": 1647013267646,
     "user": {
      "displayName": "Priyabrata Das",
      "photoUrl": "https://lh3.googleusercontent.com/a-/AOh14GjXy8bpDLec6rLJZFKv8LMzkHgIl19uFCgfEq3l3g=s64",
      "userId": "04783228310827393681"
     },
     "user_tz": -330
    },
    "id": "226bc315"
   },
   "outputs": [],
   "source": [
    "map_osm = folium.Map(location=[21.7679, 78.8718], zoom_start=2.5, tiles=\"Stamen Toner\")\n",
    "dfsample.apply(lambda row:folium.CircleMarker(location=[row[\"latitude\"], row[\"longitude\"]], \n",
    "                                              radius=10,tooltip=row['state']+'\\n'+row['city'],color=\"red\",\n",
    "                                              popup=str(row['latitude']) + '\\n'+str(row['longitude']))\n",
    "                                             .add_to(map_osm), axis=1)\n",
    "map_osm"
   ]
  },
  {
   "cell_type": "code",
   "execution_count": null,
   "id": "e97f8a09",
   "metadata": {
    "executionInfo": {
     "elapsed": 19,
     "status": "aborted",
     "timestamp": 1647013267648,
     "user": {
      "displayName": "Priyabrata Das",
      "photoUrl": "https://lh3.googleusercontent.com/a-/AOh14GjXy8bpDLec6rLJZFKv8LMzkHgIl19uFCgfEq3l3g=s64",
      "userId": "04783228310827393681"
     },
     "user_tz": -330
    },
    "id": "e97f8a09"
   },
   "outputs": [],
   "source": [
    "map_osm = folium.Map(location=[21.7679, 78.8718], zoom_start=4.5, tiles=\"Stamen Toner\")\n",
    "dfsample.apply(lambda row:folium.CircleMarker(location=[row[\"latitude\"], row[\"longitude\"]], \n",
    "                                              radius=10,tooltip=row['state']+'\\n'+row['city'],color=\"red\",\n",
    "                                              popup=str(row['latitude']) + '\\n'+str(row['longitude']))\n",
    "                                             .add_to(map_osm), axis=1)\n",
    "map_osm"
   ]
  },
  {
   "cell_type": "markdown",
   "id": "0ff0044c",
   "metadata": {
    "id": "0ff0044c"
   },
   "source": [
    "### Below code is to split the timestamp column to day, weekday, month,month-name and hour columns"
   ]
  },
  {
   "cell_type": "code",
   "execution_count": null,
   "id": "b82a1ca0",
   "metadata": {
    "id": "b82a1ca0"
   },
   "outputs": [],
   "source": [
    "import datetime\n",
    "data['timestamp'] = pd.to_datetime(data['timestamp'], format='%Y-%m-%d')\n",
    "#data['Year']=data['timestamp'].dt.year   #---- We have data for only one year 2016. So, year column may not required.\n",
    "data['Month']=data['timestamp'].dt.month\n",
    "data['MonthName']=data['timestamp'].dt.strftime('%B')\n",
    "data['Day']=data['timestamp'].dt.day\n",
    "data['Weekday']=data['timestamp'].dt.strftime('%A')\n",
    "data['Hour']=data['timestamp'].dt.strftime('%H')"
   ]
  },
  {
   "cell_type": "code",
   "execution_count": null,
   "id": "43a706a2",
   "metadata": {
    "id": "43a706a2",
    "outputId": "95edbc79-4b2b-4e12-95e5-c863242f8f25"
   },
   "outputs": [],
   "source": [
    "data.sample(3)"
   ]
  },
  {
   "cell_type": "markdown",
   "id": "f7441ede",
   "metadata": {
    "id": "f7441ede"
   },
   "source": [
    "#### Converting device_id data type to int as the current format is not readable/exponencial format."
   ]
  },
  {
   "cell_type": "code",
   "execution_count": null,
   "id": "f277b6a2",
   "metadata": {
    "id": "f277b6a2"
   },
   "outputs": [],
   "source": [
    "data= data.astype({'device_id':'int64'})"
   ]
  },
  {
   "cell_type": "markdown",
   "id": "23e75e5b",
   "metadata": {
    "id": "23e75e5b"
   },
   "source": [
    "#### Below code is to confrim a device_id fallin more than one state "
   ]
  },
  {
   "cell_type": "code",
   "execution_count": null,
   "id": "926383c3",
   "metadata": {
    "id": "926383c3"
   },
   "outputs": [],
   "source": [
    "df_state=data.groupby(by='device_id').agg({'state':'nunique'}).reset_index()"
   ]
  },
  {
   "cell_type": "code",
   "execution_count": null,
   "id": "535b1b00",
   "metadata": {
    "id": "535b1b00",
    "outputId": "ec8e1aa9-17b3-415c-a385-9402b74bad40"
   },
   "outputs": [],
   "source": [
    "df_state[df_state['state']==1]"
   ]
  },
  {
   "cell_type": "markdown",
   "id": "975633d5",
   "metadata": {
    "id": "975633d5"
   },
   "source": [
    "Conclision:- it is confirmed that, any device_id fallin only one state."
   ]
  },
  {
   "cell_type": "markdown",
   "id": "d653a9c6",
   "metadata": {
    "id": "d653a9c6"
   },
   "source": [
    "### 1. Distribution of Users(device_id) across States."
   ]
  },
  {
   "cell_type": "code",
   "execution_count": null,
   "id": "da2e166d",
   "metadata": {
    "id": "da2e166d"
   },
   "outputs": [],
   "source": [
    "df_decicestate=data.groupby(by=['device_id','state']).agg({'event_id':'count'}).reset_index()"
   ]
  },
  {
   "cell_type": "code",
   "execution_count": null,
   "id": "9b5ff728",
   "metadata": {
    "id": "9b5ff728",
    "outputId": "ebcfd4bb-9d03-41b4-8f79-a5f5f840ec9d"
   },
   "outputs": [],
   "source": [
    "plt.figure(figsize=(18,11))\n",
    "sns.histplot(x=df_decicestate['state'],data=df_decicestate)\n",
    "plt.title('Distribution of Users(device_id) across States.',fontsize=20)\n",
    "plt.xlabel('State',fontsize=18,color='red')\n",
    "plt.ylabel('No of records',fontsize=14)\n",
    "plt.xticks(fontsize=14)\n",
    "plt.show()"
   ]
  },
  {
   "cell_type": "markdown",
   "id": "c62bf065",
   "metadata": {
    "id": "c62bf065"
   },
   "source": [
    "### 2. Distribution of Users across Phone Brands(Consider only 10 Most used Phone Brands)."
   ]
  },
  {
   "cell_type": "code",
   "execution_count": null,
   "id": "40110299",
   "metadata": {
    "id": "40110299"
   },
   "outputs": [],
   "source": [
    "df_brand=data.groupby(by=['brand_eng']).agg({'device_id':'nunique'}).reset_index().sort_values(by='device_id',ascending=False)[:10]"
   ]
  },
  {
   "cell_type": "code",
   "execution_count": null,
   "id": "b92e3e5b",
   "metadata": {
    "id": "b92e3e5b",
    "outputId": "793d09ac-7b9f-4f6f-dbbf-44209032c6e1"
   },
   "outputs": [],
   "source": [
    "plt.figure(figsize=(18,11))\n",
    "sns.barplot(x=df_brand['brand_eng'],y=df_brand['device_id'],data=df_brand)\n",
    "plt.title('Distribution of Users across Phone Brands(Consider only 10 Most used Phone Brands).',fontsize=20)\n",
    "plt.xlabel('Brand Name',fontsize=18,color='red')\n",
    "plt.ylabel('No of records',fontsize=14)\n",
    "plt.xticks(fontsize=14)\n",
    "plt.show()"
   ]
  },
  {
   "cell_type": "markdown",
   "id": "815b10de",
   "metadata": {
    "id": "815b10de"
   },
   "source": [
    "### 3. Distribution of Users across Gender."
   ]
  },
  {
   "cell_type": "code",
   "execution_count": null,
   "id": "bd0fcf02",
   "metadata": {
    "id": "bd0fcf02"
   },
   "outputs": [],
   "source": [
    "df_gender=data.groupby(by=['gender']).agg({'device_id':'nunique'}).reset_index().sort_values(by='device_id',ascending=False)"
   ]
  },
  {
   "cell_type": "code",
   "execution_count": null,
   "id": "4adb11ea",
   "metadata": {
    "id": "4adb11ea",
    "outputId": "ac2cab84-898e-41fc-810f-369f0719eaba"
   },
   "outputs": [],
   "source": [
    "plt.figure(figsize=(10,6))\n",
    "sns.barplot(x=df_gender['gender'],y=df_gender['device_id'],data=df_gender)\n",
    "plt.title('Distribution of Users across Gender',fontsize=20)\n",
    "plt.xlabel('Gender',fontsize=18,color='red')\n",
    "plt.ylabel('No of records',fontsize=14)\n",
    "plt.xticks(fontsize=14)\n",
    "plt.show()"
   ]
  },
  {
   "cell_type": "markdown",
   "id": "376593d7",
   "metadata": {
    "id": "376593d7"
   },
   "source": [
    "### 4. Distribution of Users across Age Segments."
   ]
  },
  {
   "cell_type": "code",
   "execution_count": null,
   "id": "f044e932",
   "metadata": {
    "id": "f044e932"
   },
   "outputs": [],
   "source": [
    "df_age_groups=data.groupby(by=['age_group']).agg({'device_id':'nunique'}).reset_index().sort_values(by='device_id',ascending=False)"
   ]
  },
  {
   "cell_type": "code",
   "execution_count": null,
   "id": "281d9612",
   "metadata": {
    "id": "281d9612",
    "outputId": "fdbd3163-ea91-4dca-df67-e25788227bf6"
   },
   "outputs": [],
   "source": [
    "plt.figure(figsize=(15,10))\n",
    "sns.barplot(x=df_age_groups['age_group'],y=df_age_groups['device_id'],data=df_age_groups)\n",
    "plt.title('Distribution of Users across Age Segments',fontsize=20)\n",
    "plt.xlabel('Age Group',fontsize=18,color='red')\n",
    "plt.ylabel('No of records',fontsize=14)\n",
    "plt.xticks(fontsize=14)\n",
    "plt.show()"
   ]
  },
  {
   "cell_type": "markdown",
   "id": "269cf32f",
   "metadata": {
    "id": "269cf32f"
   },
   "source": [
    "### 5. Distribution of Phone Brands  (Consider only 10 Most used Phone Brands) for each Age Segment, State, Gender."
   ]
  },
  {
   "cell_type": "code",
   "execution_count": null,
   "id": "8e79fe3e",
   "metadata": {
    "id": "8e79fe3e"
   },
   "outputs": [],
   "source": [
    "def distribution(data,colname):    \n",
    "    val_list=data[colname].unique()\n",
    "       \n",
    "    df=pd.DataFrame()\n",
    "    for val in val_list:\n",
    "        \n",
    "        df_val=data[data[colname]==val].groupby(by=['brand_eng']).agg({'device_id':'nunique'}).reset_index().sort_values(by='brand_eng')\n",
    "        df_val.rename(columns={'device_id':val+'_count'},inplace=True)\n",
    "        \n",
    "        if df.empty:\n",
    "            df=df_val.copy(deep=True)\n",
    "        else:\n",
    "            df=pd.merge(df,df_val,how='outer',left_on='brand_eng',right_on='brand_eng')\n",
    "            \n",
    "    df.fillna(0,inplace=True)\n",
    "    df['total']=0\n",
    "    for val in val_list:\n",
    "        cname=val+'_count'\n",
    "        df=df.astype({cname:'int'})          #df[val+'_count'].apply(pd.to_numeric())\n",
    "        df['total']=df['total']+df[cname]\n",
    "    \n",
    "    \n",
    "    df=df.sort_values(by='total',ascending=False)[:10].reset_index()\n",
    "    df.drop(columns=['index','total'],inplace=True)\n",
    "    df.set_index('brand_eng',inplace=True)\n",
    "    \n",
    "    plt.figure(figsize=(18,10))\n",
    "    #Final_df.groupby(by='Season')['FTHG','FTAG'].sum().plot(kind='bar',figsize=(15,7))\n",
    "    df.plot(kind='bar',figsize=(15,7))\n",
    "    plt.xlabel('Brand Name',fontsize=16)\n",
    "    plt.ylabel('No of Users',fontsize=16)\n",
    "    plt.xticks(rotation=45,fontsize=14)\n",
    "    plt.legend(val_list,fontsize=14)\n",
    "    plt.title('Distribution of top 10 Phone Brands for '+ colname,fontsize=20)\n",
    "    plt.show()\n",
    "    "
   ]
  },
  {
   "cell_type": "code",
   "execution_count": null,
   "id": "02a6b4a3",
   "metadata": {
    "id": "02a6b4a3",
    "outputId": "3f6453bb-ae51-4e54-b7f8-d96f09b61599"
   },
   "outputs": [],
   "source": [
    "distribution(data,'gender')"
   ]
  },
  {
   "cell_type": "code",
   "execution_count": null,
   "id": "fca308ba",
   "metadata": {
    "id": "fca308ba",
    "outputId": "0eed1bd3-e624-4c04-9473-0ff273537f76"
   },
   "outputs": [],
   "source": [
    "distribution(data,'age_group')"
   ]
  },
  {
   "cell_type": "code",
   "execution_count": null,
   "id": "5d58bdfe",
   "metadata": {
    "id": "5d58bdfe",
    "outputId": "a38ccc10-a5bc-4e37-94b6-7908ae92eea9"
   },
   "outputs": [],
   "source": [
    "distribution(data,'state')"
   ]
  },
  {
   "cell_type": "markdown",
   "id": "d7127262",
   "metadata": {
    "id": "d7127262"
   },
   "source": [
    "### 6. Distribution of Gender for each State, Age Segment and Phone Brand  (Consider only 10 Most used Phone Brands)."
   ]
  },
  {
   "cell_type": "code",
   "execution_count": null,
   "id": "bf699383",
   "metadata": {
    "id": "bf699383"
   },
   "outputs": [],
   "source": [
    "def distributionGender(data,colname,lstBrand=[]):    \n",
    "    datasource=data.copy(deep=True)\n",
    "    if len(lstBrand)!=0:\n",
    "        datasource=datasource[datasource['brand_eng'].isin(lstBrand)]\n",
    "        \n",
    "    val_list=datasource[colname].unique()\n",
    "       \n",
    "    df=pd.DataFrame()\n",
    "    for val in val_list:\n",
    "        \n",
    "        df_val=datasource[datasource[colname]==val].groupby(by=['gender']).agg({'device_id':'nunique'}).reset_index().sort_values(by='gender')\n",
    "        df_val.rename(columns={'device_id':val+'_count'},inplace=True)\n",
    "        \n",
    "        if df.empty:\n",
    "            df=df_val.copy(deep=True)\n",
    "        else:\n",
    "            df=pd.merge(df,df_val,how='outer',left_on='gender',right_on='gender')\n",
    "            \n",
    "    df.fillna(0,inplace=True)\n",
    "    df['total']=0\n",
    "    for val in val_list:\n",
    "        cname=val+'_count'\n",
    "        df=df.astype({cname:'int'})          #df[val+'_count'].apply(pd.to_numeric())\n",
    "        df['total']=df['total']+df[cname]\n",
    "    \n",
    "    \n",
    "    df=df.sort_values(by='total',ascending=False).reset_index()\n",
    "    df.drop(columns=['index','total'],inplace=True)\n",
    "    df.set_index('gender',inplace=True)\n",
    "    \n",
    "    plt.figure(figsize=(18,10))\n",
    "    #Final_df.groupby(by='Season')['FTHG','FTAG'].sum().plot(kind='bar',figsize=(15,7))\n",
    "    df.plot(kind='bar',figsize=(15,7))\n",
    "    plt.xlabel('Gender',fontsize=16)\n",
    "    plt.ylabel('No of Users',fontsize=16)\n",
    "    plt.xticks(rotation=0,fontsize=14)\n",
    "    plt.legend(val_list,fontsize=14)\n",
    "    if colname=='brand_eng':\n",
    "        colname='Top 10 Brands'\n",
    "    plt.title('Distribution of Gender for '+ colname,fontsize=20)\n",
    "    plt.show()"
   ]
  },
  {
   "cell_type": "code",
   "execution_count": null,
   "id": "a8962ee2",
   "metadata": {
    "id": "a8962ee2",
    "outputId": "ba9459ec-2fe1-4ff5-f7f8-723648d4e913"
   },
   "outputs": [],
   "source": [
    "distributionGender(data,'state')"
   ]
  },
  {
   "cell_type": "code",
   "execution_count": null,
   "id": "e67b4452",
   "metadata": {
    "id": "e67b4452",
    "outputId": "0ac162ca-ffb0-4011-d03b-1c9a73b906fa"
   },
   "outputs": [],
   "source": [
    "distributionGender(data,'age_group')"
   ]
  },
  {
   "cell_type": "code",
   "execution_count": null,
   "id": "d86a7d9d",
   "metadata": {
    "id": "d86a7d9d"
   },
   "outputs": [],
   "source": [
    "lstBrand=data.groupby(by=['brand_eng']).agg({'device_id':'nunique'}).reset_index().sort_values(by='device_id',ascending=False)[:10]['brand_eng'].values\n",
    "lstBrand=lstBrand.tolist()"
   ]
  },
  {
   "cell_type": "code",
   "execution_count": null,
   "id": "2e35f3ab",
   "metadata": {
    "id": "2e35f3ab",
    "outputId": "18fbe5cf-7643-4eca-c5c7-fbcaa95670d7"
   },
   "outputs": [],
   "source": [
    "distributionGender(data,'brand_eng',lstBrand)"
   ]
  },
  {
   "cell_type": "markdown",
   "id": "bd5d5ede",
   "metadata": {
    "id": "bd5d5ede"
   },
   "source": [
    "### 7. Distribution of Age Segments for each State, Gender and Phone Brand  (Consider only 10 Most used Phone Brands)."
   ]
  },
  {
   "cell_type": "code",
   "execution_count": null,
   "id": "4f1a5f5b",
   "metadata": {
    "id": "4f1a5f5b"
   },
   "outputs": [],
   "source": [
    "def distributionAgeSegment(data,colname,lstBrand=[]):    \n",
    "    datasource=data.copy(deep=True)\n",
    "    if len(lstBrand)!=0:\n",
    "        datasource=datasource[datasource['brand_eng'].isin(lstBrand)]\n",
    "        \n",
    "    val_list=datasource[colname].unique()\n",
    "       \n",
    "    df=pd.DataFrame()\n",
    "    for val in val_list:\n",
    "        \n",
    "        df_val=datasource[datasource[colname]==val].groupby(by=['age_group']).agg({'device_id':'nunique'}).reset_index().sort_values(by='age_group')\n",
    "        df_val.rename(columns={'device_id':val+'_count'},inplace=True)\n",
    "        \n",
    "        if df.empty:\n",
    "            df=df_val.copy(deep=True)\n",
    "        else:\n",
    "            df=pd.merge(df,df_val,how='outer',left_on='age_group',right_on='age_group')\n",
    "            \n",
    "    df.fillna(0,inplace=True)\n",
    "    df['total']=0\n",
    "    for val in val_list:\n",
    "        cname=val+'_count'\n",
    "        df=df.astype({cname:'int'})          #df[val+'_count'].apply(pd.to_numeric())\n",
    "        df['total']=df['total']+df[cname]\n",
    "    \n",
    "    \n",
    "    df=df.sort_values(by='total',ascending=False).reset_index()\n",
    "    df.drop(columns=['index','total'],inplace=True)\n",
    "    df.set_index('age_group',inplace=True)\n",
    "    \n",
    "    plt.figure(figsize=(18,10))\n",
    "    #Final_df.groupby(by='Season')['FTHG','FTAG'].sum().plot(kind='bar',figsize=(15,7))\n",
    "    df.plot(kind='bar',figsize=(18,11))\n",
    "    plt.xlabel('Age Segment',fontsize=16)\n",
    "    plt.ylabel('No of Users',fontsize=16)\n",
    "    plt.xticks(rotation=45,fontsize=14)\n",
    "    plt.legend(val_list,fontsize=14)\n",
    "    if colname=='brand_eng':\n",
    "        colname='Top 10 Brands'\n",
    "    plt.title('Distribution of Age Segment for '+ colname,fontsize=20)\n",
    "    plt.show()"
   ]
  },
  {
   "cell_type": "code",
   "execution_count": null,
   "id": "9ff99aab",
   "metadata": {
    "id": "9ff99aab",
    "outputId": "2c4c2fdc-3f24-4a9d-9e22-f7c248239f1c"
   },
   "outputs": [],
   "source": [
    "distributionAgeSegment(data,'state')"
   ]
  },
  {
   "cell_type": "code",
   "execution_count": null,
   "id": "4176d427",
   "metadata": {
    "id": "4176d427",
    "outputId": "9d785ca6-9e63-4f00-bb56-71bef1197cef"
   },
   "outputs": [],
   "source": [
    "distributionAgeSegment(data,'gender')"
   ]
  },
  {
   "cell_type": "code",
   "execution_count": null,
   "id": "3df3b1e5",
   "metadata": {
    "id": "3df3b1e5",
    "outputId": "1747422a-3c4a-47d6-8bf2-ee9e87a82116"
   },
   "outputs": [],
   "source": [
    "distributionAgeSegment(data,'brand_eng',lstBrand)"
   ]
  },
  {
   "cell_type": "markdown",
   "id": "c9e6d1b2",
   "metadata": {
    "id": "c9e6d1b2"
   },
   "source": [
    "### 8. Hourly distribution of Phone Calls."
   ]
  },
  {
   "cell_type": "code",
   "execution_count": null,
   "id": "ad537bcb",
   "metadata": {
    "colab": {
     "base_uri": "https://localhost:8080/",
     "height": 166
    },
    "executionInfo": {
     "elapsed": 21,
     "status": "error",
     "timestamp": 1646404940477,
     "user": {
      "displayName": "Darshika Pandey",
      "photoUrl": "https://lh3.googleusercontent.com/a/default-user=s64",
      "userId": "08484083806118867355"
     },
     "user_tz": -330
    },
    "id": "ad537bcb",
    "outputId": "a915bc58-e326-435d-c642-24e270ef0a1b"
   },
   "outputs": [],
   "source": [
    "df_hour=data.sort_values(by='Hour')"
   ]
  },
  {
   "cell_type": "code",
   "execution_count": null,
   "id": "7715ce9c",
   "metadata": {
    "id": "7715ce9c"
   },
   "outputs": [],
   "source": [
    "plt.figure(figsize=(18,11))\n",
    "sns.histplot(x=df_hour['Hour'],data=df_hour)\n",
    "plt.title('Hourly distribution of Phone Calls',fontsize=20)\n",
    "plt.xlabel('Hour',fontsize=18,color='red')\n",
    "plt.ylabel('No of records',fontsize=14)\n",
    "plt.xticks(fontsize=14)\n",
    "plt.show()"
   ]
  },
  {
   "cell_type": "markdown",
   "id": "e202abf5",
   "metadata": {
    "id": "e202abf5"
   },
   "source": [
    "### 9. Plot the Users on the Map using any suitable package."
   ]
  },
  {
   "cell_type": "code",
   "execution_count": null,
   "id": "4ca107d9",
   "metadata": {
    "id": "4ca107d9"
   },
   "outputs": [],
   "source": [
    "def plotpackage(data,colname):\n",
    "    inputval=input('Enter ' + colname + ' : ')\n",
    "    df=data.groupby(by=['device_id',colname,'latitude','longitude']).agg({'age':'nunique'}).reset_index()\n",
    "    df_filter=df[df[colname]==inputval]    \n",
    "        \n",
    "    map_osm = folium.Map(location=[21.7679, 78.8718], zoom_start=4.5, tiles=\"Stamen Toner\")\n",
    "    df_filter.apply(lambda row:folium.CircleMarker(location=[row[\"latitude\"], row[\"longitude\"]], \n",
    "                                              radius=10,tooltip=row['device_id'],color=\"red\")\n",
    "                                             .add_to(map_osm), axis=1)    \n",
    "    return map_osm"
   ]
  },
  {
   "cell_type": "code",
   "execution_count": null,
   "id": "2c28c8fe",
   "metadata": {
    "id": "2c28c8fe",
    "outputId": "428434f9-2d57-47c1-d3e1-1245a869209b"
   },
   "outputs": [],
   "source": [
    "plotpackage(data,'brand_eng')"
   ]
  },
  {
   "cell_type": "code",
   "execution_count": null,
   "id": "8fd588d6",
   "metadata": {
    "id": "8fd588d6",
    "outputId": "fc60dd56-6646-450b-a29f-06305d8893f1"
   },
   "outputs": [],
   "source": [
    "plotpackage(data,'age_group')"
   ]
  },
  {
   "cell_type": "code",
   "execution_count": null,
   "id": "77182776",
   "metadata": {
    "id": "77182776"
   },
   "outputs": [],
   "source": []
  }
 ],
 "metadata": {
  "colab": {
   "name": "CapstoneProject - Ramu.ipynb",
   "provenance": []
  },
  "kernelspec": {
   "display_name": "Python 3",
   "language": "python",
   "name": "python3"
  },
  "language_info": {
   "codemirror_mode": {
    "name": "ipython",
    "version": 3
   },
   "file_extension": ".py",
   "mimetype": "text/x-python",
   "name": "python",
   "nbconvert_exporter": "python",
   "pygments_lexer": "ipython3",
   "version": "3.8.8"
  }
 },
 "nbformat": 4,
 "nbformat_minor": 5
}
